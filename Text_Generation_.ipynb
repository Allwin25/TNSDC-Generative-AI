{
  "metadata": {
    "kernelspec": {
      "display_name": "Python 3",
      "language": "python",
      "name": "python3"
    },
    "language_info": {
      "name": "python",
      "version": "3.10.13",
      "mimetype": "text/x-python",
      "codemirror_mode": {
        "name": "ipython",
        "version": 3
      },
      "pygments_lexer": "ipython3",
      "nbconvert_exporter": "python",
      "file_extension": ".py"
    },
    "kaggle": {
      "accelerator": "nvidiaTeslaT4",
      "dataSources": [
        {
          "sourceId": 31436,
          "sourceType": "datasetVersion",
          "datasetId": 19447
        }
      ],
      "dockerImageVersionId": 30648,
      "isInternetEnabled": true,
      "language": "python",
      "sourceType": "notebook",
      "isGpuEnabled": true
    },
    "colab": {
      "name": "BiLSTM Text Generation (NLP)",
      "provenance": []
    }
  },
  "nbformat_minor": 0,
  "nbformat": 4,
  "cells": [
    {
      "source": [
        "\n",
        "# IMPORTANT: RUN THIS CELL IN ORDER TO IMPORT YOUR KAGGLE DATA SOURCES\n",
        "# TO THE CORRECT LOCATION (/kaggle/input) IN YOUR NOTEBOOK,\n",
        "# THEN FEEL FREE TO DELETE THIS CELL.\n",
        "# NOTE: THIS NOTEBOOK ENVIRONMENT DIFFERS FROM KAGGLE'S PYTHON\n",
        "# ENVIRONMENT SO THERE MAY BE MISSING LIBRARIES USED BY YOUR\n",
        "# NOTEBOOK.\n",
        "\n",
        "import os\n",
        "import sys\n",
        "from tempfile import NamedTemporaryFile\n",
        "from urllib.request import urlopen\n",
        "from urllib.parse import unquote, urlparse\n",
        "from urllib.error import HTTPError\n",
        "from zipfile import ZipFile\n",
        "import tarfile\n",
        "import shutil\n",
        "\n",
        "CHUNK_SIZE = 40960\n",
        "DATA_SOURCE_MAPPING = 'nyt-comments:https%3A%2F%2Fstorage.googleapis.com%2Fkaggle-data-sets%2F19447%2F31436%2Fbundle%2Farchive.zip%3FX-Goog-Algorithm%3DGOOG4-RSA-SHA256%26X-Goog-Credential%3Dgcp-kaggle-com%2540kaggle-161607.iam.gserviceaccount.com%252F20240402%252Fauto%252Fstorage%252Fgoog4_request%26X-Goog-Date%3D20240402T053538Z%26X-Goog-Expires%3D259200%26X-Goog-SignedHeaders%3Dhost%26X-Goog-Signature%3Ddfbd7eae7df5c94269875e97db169d655a8227000fdd0a8ec13626b1142e4ae19b3eca610946b9097c68d7111195ff02f3ac857a2fabb47eb85e589a18aced2cf4618566d214b004fe277e3f02d1ce58086de8f2690240ac2131b906f00e455a42869d5ff93c129945dc23fae1929680de75ef9797c4bb56ffce043ee1c5a4f75586f04c5e0cbe3d858377a5543688437ba050bad8155c657ddef4d9f530d620dc467c2f9887cf06f54aceff92ccac968016ef23bab2af9b8f34e95c8df91c057d65915f3325b8dc6c537107a506abcb8bf049f4a4fae5657c1d610ad177ae86ba99bc534051c6ed6665b0c330c1d261043c40ff18df423b24ccf43210b75ed0'\n",
        "\n",
        "KAGGLE_INPUT_PATH='/kaggle/input'\n",
        "KAGGLE_WORKING_PATH='/kaggle/working'\n",
        "KAGGLE_SYMLINK='kaggle'\n",
        "\n",
        "!umount /kaggle/input/ 2> /dev/null\n",
        "shutil.rmtree('/kaggle/input', ignore_errors=True)\n",
        "os.makedirs(KAGGLE_INPUT_PATH, 0o777, exist_ok=True)\n",
        "os.makedirs(KAGGLE_WORKING_PATH, 0o777, exist_ok=True)\n",
        "\n",
        "try:\n",
        "  os.symlink(KAGGLE_INPUT_PATH, os.path.join(\"..\", 'input'), target_is_directory=True)\n",
        "except FileExistsError:\n",
        "  pass\n",
        "try:\n",
        "  os.symlink(KAGGLE_WORKING_PATH, os.path.join(\"..\", 'working'), target_is_directory=True)\n",
        "except FileExistsError:\n",
        "  pass\n",
        "\n",
        "for data_source_mapping in DATA_SOURCE_MAPPING.split(','):\n",
        "    directory, download_url_encoded = data_source_mapping.split(':')\n",
        "    download_url = unquote(download_url_encoded)\n",
        "    filename = urlparse(download_url).path\n",
        "    destination_path = os.path.join(KAGGLE_INPUT_PATH, directory)\n",
        "    try:\n",
        "        with urlopen(download_url) as fileres, NamedTemporaryFile() as tfile:\n",
        "            total_length = fileres.headers['content-length']\n",
        "            print(f'Downloading {directory}, {total_length} bytes compressed')\n",
        "            dl = 0\n",
        "            data = fileres.read(CHUNK_SIZE)\n",
        "            while len(data) > 0:\n",
        "                dl += len(data)\n",
        "                tfile.write(data)\n",
        "                done = int(50 * dl / int(total_length))\n",
        "                sys.stdout.write(f\"\\r[{'=' * done}{' ' * (50-done)}] {dl} bytes downloaded\")\n",
        "                sys.stdout.flush()\n",
        "                data = fileres.read(CHUNK_SIZE)\n",
        "            if filename.endswith('.zip'):\n",
        "              with ZipFile(tfile) as zfile:\n",
        "                zfile.extractall(destination_path)\n",
        "            else:\n",
        "              with tarfile.open(tfile.name) as tarfile:\n",
        "                tarfile.extractall(destination_path)\n",
        "            print(f'\\nDownloaded and uncompressed: {directory}')\n",
        "    except HTTPError as e:\n",
        "        print(f'Failed to load (likely expired) {download_url} to path {destination_path}')\n",
        "        continue\n",
        "    except OSError as e:\n",
        "        print(f'Failed to load {download_url} to path {destination_path}')\n",
        "        continue\n",
        "\n",
        "print('Data source import complete.')\n"
      ],
      "metadata": {
        "id": "8YBjBlhdaWRc",
        "outputId": "0cd96709-870a-4465-acb5-d54111dfda10",
        "colab": {
          "base_uri": "https://localhost:8080/"
        }
      },
      "cell_type": "code",
      "outputs": [
        {
          "output_type": "stream",
          "name": "stdout",
          "text": [
            "Downloading nyt-comments, 502973613 bytes compressed\n",
            "[==================================================] 502973613 bytes downloaded\n",
            "Downloaded and uncompressed: nyt-comments\n",
            "Data source import complete.\n"
          ]
        }
      ],
      "execution_count": 1
    },
    {
      "cell_type": "code",
      "source": [
        "import tensorflow as tf\n",
        "from tensorflow.keras.models import Sequential\n",
        "from tensorflow.keras.layers import Dense, Dropout, Embedding, LSTM, Bidirectional\n",
        "from tensorflow.keras.optimizers import Adam, SGD\n",
        "from tensorflow.keras.callbacks import EarlyStopping\n",
        "from tensorflow.keras.preprocessing.text import Tokenizer\n",
        "from tensorflow.keras.preprocessing.sequence import pad_sequences\n",
        "import string\n",
        "import numpy as np\n",
        "import pandas as pd\n",
        "import matplotlib.pyplot as plt\n",
        "import os"
      ],
      "metadata": {
        "execution": {
          "iopub.status.busy": "2024-02-03T17:37:18.237616Z",
          "iopub.execute_input": "2024-02-03T17:37:18.238025Z",
          "iopub.status.idle": "2024-02-03T17:37:31.147305Z",
          "shell.execute_reply.started": "2024-02-03T17:37:18.237989Z",
          "shell.execute_reply": "2024-02-03T17:37:31.14655Z"
        },
        "trusted": true,
        "id": "ycLUyafxaWRd"
      },
      "execution_count": 2,
      "outputs": []
    },
    {
      "cell_type": "code",
      "source": [
        "curr_dir = '/kaggle/input/nyt-comments/'\n",
        "all_headlines = []\n",
        "for filename in os.listdir(curr_dir):\n",
        "    if 'Articles' in filename:\n",
        "        article_df = pd.read_csv(curr_dir + filename)\n",
        "        all_headlines.extend(list(article_df.headline.values))\n",
        "        break\n",
        "all_headlines = [line for line in all_headlines if line!= \"Unknown\"]\n",
        "all_headlines[:5]"
      ],
      "metadata": {
        "execution": {
          "iopub.status.busy": "2024-02-03T17:37:31.149127Z",
          "iopub.execute_input": "2024-02-03T17:37:31.149798Z",
          "iopub.status.idle": "2024-02-03T17:37:31.190386Z",
          "shell.execute_reply.started": "2024-02-03T17:37:31.149765Z",
          "shell.execute_reply": "2024-02-03T17:37:31.189281Z"
        },
        "trusted": true,
        "id": "KWJXoqQTaWRd",
        "outputId": "1ed20677-bc8c-4969-978e-03b67325f51c",
        "colab": {
          "base_uri": "https://localhost:8080/"
        }
      },
      "execution_count": 3,
      "outputs": [
        {
          "output_type": "execute_result",
          "data": {
            "text/plain": [
              "['Finding an Expansive View  of a Forgotten People in Niger',\n",
              " 'And Now,  the Dreaded Trump Curse',\n",
              " 'Venezuela’s Descent Into Dictatorship',\n",
              " 'Stain Permeates Basketball Blue Blood',\n",
              " 'Taking Things for Granted']"
            ]
          },
          "metadata": {},
          "execution_count": 3
        }
      ]
    },
    {
      "cell_type": "code",
      "source": [
        "def clean_s1(txt):\n",
        "    txt = \"\".join(t for t in txt if t not in string.punctuation).lower()\n",
        "    txt = txt.encode(\"utf8\").decode(\"ascii\",'ignore')\n",
        "    return txt\n",
        "corpus = [clean_s1(x) for x in all_headlines]\n",
        "corpus[:5]"
      ],
      "metadata": {
        "execution": {
          "iopub.status.busy": "2024-02-03T17:37:31.191645Z",
          "iopub.execute_input": "2024-02-03T17:37:31.192352Z",
          "iopub.status.idle": "2024-02-03T17:37:31.206733Z",
          "shell.execute_reply.started": "2024-02-03T17:37:31.192292Z",
          "shell.execute_reply": "2024-02-03T17:37:31.2057Z"
        },
        "trusted": true,
        "id": "iyH5AyOmaWRd",
        "outputId": "4a6bc054-1783-48a2-e0d0-5fe6575e81a5",
        "colab": {
          "base_uri": "https://localhost:8080/"
        }
      },
      "execution_count": 4,
      "outputs": [
        {
          "output_type": "execute_result",
          "data": {
            "text/plain": [
              "['finding an expansive view  of a forgotten people in niger',\n",
              " 'and now  the dreaded trump curse',\n",
              " 'venezuelas descent into dictatorship',\n",
              " 'stain permeates basketball blue blood',\n",
              " 'taking things for granted']"
            ]
          },
          "metadata": {},
          "execution_count": 4
        }
      ]
    },
    {
      "cell_type": "code",
      "source": [
        "tokenizer = Tokenizer()\n",
        "def get_sequence_of_tokens(corpus):\n",
        "    tokenizer.fit_on_texts(corpus)\n",
        "    total_words = len(tokenizer.word_index) + 1\n",
        "\n",
        "    input_sequences = []\n",
        "    for line in corpus:\n",
        "        token_list = tokenizer.texts_to_sequences([line])[0]\n",
        "        for i in range(1, len(token_list)):\n",
        "            n_gram_sequence = token_list[:i+1]\n",
        "            input_sequences.append(n_gram_sequence)\n",
        "    return input_sequences, total_words\n",
        "\n",
        "input_sequences, total_words = get_sequence_of_tokens(corpus)\n",
        "input_sequences[:8]"
      ],
      "metadata": {
        "execution": {
          "iopub.status.busy": "2024-02-03T17:37:31.207992Z",
          "iopub.execute_input": "2024-02-03T17:37:31.20894Z",
          "iopub.status.idle": "2024-02-03T17:37:31.247619Z",
          "shell.execute_reply.started": "2024-02-03T17:37:31.208907Z",
          "shell.execute_reply": "2024-02-03T17:37:31.246547Z"
        },
        "trusted": true,
        "id": "ujlBIYwHaWRd",
        "outputId": "53af1bcf-e2d1-46c1-d4ba-193de99d5cb6",
        "colab": {
          "base_uri": "https://localhost:8080/"
        }
      },
      "execution_count": 5,
      "outputs": [
        {
          "output_type": "execute_result",
          "data": {
            "text/plain": [
              "[[169, 17],\n",
              " [169, 17, 665],\n",
              " [169, 17, 665, 367],\n",
              " [169, 17, 665, 367, 4],\n",
              " [169, 17, 665, 367, 4, 2],\n",
              " [169, 17, 665, 367, 4, 2, 666],\n",
              " [169, 17, 665, 367, 4, 2, 666, 170],\n",
              " [169, 17, 665, 367, 4, 2, 666, 170, 5]]"
            ]
          },
          "metadata": {},
          "execution_count": 5
        }
      ]
    },
    {
      "cell_type": "code",
      "source": [
        "for j in range(8):\n",
        "    s = input_sequences[j]\n",
        "    for i in range(1, len(s)+1):\n",
        "        print(tokenizer.index_word[s[i-1]], end = ' ')\n",
        "    print()"
      ],
      "metadata": {
        "execution": {
          "iopub.status.busy": "2024-02-03T17:37:31.250067Z",
          "iopub.execute_input": "2024-02-03T17:37:31.250409Z",
          "iopub.status.idle": "2024-02-03T17:37:31.256259Z",
          "shell.execute_reply.started": "2024-02-03T17:37:31.250377Z",
          "shell.execute_reply": "2024-02-03T17:37:31.255302Z"
        },
        "trusted": true,
        "id": "uVa0dLQ8aWRd",
        "outputId": "99c06c2f-40be-47cd-e6db-3c777dc27943",
        "colab": {
          "base_uri": "https://localhost:8080/"
        }
      },
      "execution_count": 6,
      "outputs": [
        {
          "output_type": "stream",
          "name": "stdout",
          "text": [
            "finding an \n",
            "finding an expansive \n",
            "finding an expansive view \n",
            "finding an expansive view of \n",
            "finding an expansive view of a \n",
            "finding an expansive view of a forgotten \n",
            "finding an expansive view of a forgotten people \n",
            "finding an expansive view of a forgotten people in \n"
          ]
        }
      ]
    },
    {
      "cell_type": "code",
      "source": [
        "def generate_padded_sequences(input_sequences):\n",
        "    max_sequence_len = max([len(x) for x in input_sequences])\n",
        "    input_sequences = np.array(pad_sequences(input_sequences, maxlen=max_sequence_len, padding='pre'))\n",
        "\n",
        "    predictors, label = input_sequences[:,:-1],input_sequences[:,-1]\n",
        "    label = tf.keras.utils.to_categorical(label, num_classes=total_words)\n",
        "    return predictors, label, max_sequence_len\n",
        "\n",
        "predictors, label, max_sequence = generate_padded_sequences(input_sequences)\n",
        "max_sequence = max_sequence-1\n",
        "print(\"Length of Max Sequence:\",max_sequence)\n",
        "for i in range(3):\n",
        "    print(predictors[i], list(label[i]).index(1))"
      ],
      "metadata": {
        "execution": {
          "iopub.status.busy": "2024-02-03T17:37:31.257523Z",
          "iopub.execute_input": "2024-02-03T17:37:31.257809Z",
          "iopub.status.idle": "2024-02-03T17:37:31.310715Z",
          "shell.execute_reply.started": "2024-02-03T17:37:31.257787Z",
          "shell.execute_reply": "2024-02-03T17:37:31.309881Z"
        },
        "trusted": true,
        "id": "DRG_iTxcaWRe",
        "outputId": "37b2c920-7274-4903-e37a-fbe9b6f54dc9",
        "colab": {
          "base_uri": "https://localhost:8080/"
        }
      },
      "execution_count": 7,
      "outputs": [
        {
          "output_type": "stream",
          "name": "stdout",
          "text": [
            "Length of Max Sequence: 18\n",
            "[  0   0   0   0   0   0   0   0   0   0   0   0   0   0   0   0   0 169] 17\n",
            "[  0   0   0   0   0   0   0   0   0   0   0   0   0   0   0   0 169  17] 665\n",
            "[  0   0   0   0   0   0   0   0   0   0   0   0   0   0   0 169  17 665] 367\n"
          ]
        }
      ]
    },
    {
      "cell_type": "code",
      "source": [
        "total_words"
      ],
      "metadata": {
        "execution": {
          "iopub.status.busy": "2024-02-03T17:37:31.311852Z",
          "iopub.execute_input": "2024-02-03T17:37:31.312199Z",
          "iopub.status.idle": "2024-02-03T17:37:31.31787Z",
          "shell.execute_reply.started": "2024-02-03T17:37:31.312169Z",
          "shell.execute_reply": "2024-02-03T17:37:31.317033Z"
        },
        "trusted": true,
        "id": "lvRK5wCgaWRe",
        "outputId": "3767b7e7-599c-4030-c846-aba237e79f99",
        "colab": {
          "base_uri": "https://localhost:8080/"
        }
      },
      "execution_count": 8,
      "outputs": [
        {
          "output_type": "execute_result",
          "data": {
            "text/plain": [
              "2422"
            ]
          },
          "metadata": {},
          "execution_count": 8
        }
      ]
    },
    {
      "cell_type": "code",
      "source": [
        "model = Sequential()\n",
        "model.add(Embedding(total_words,20,input_length=max_sequence))\n",
        "model.add(Bidirectional(LSTM(units=100, return_sequences=True)))\n",
        "model.add(LSTM(units=100))\n",
        "model.add(Dropout(0.5))\n",
        "model.add(Dense(units=total_words, activation='softmax'))"
      ],
      "metadata": {
        "execution": {
          "iopub.status.busy": "2024-02-03T17:37:31.319033Z",
          "iopub.execute_input": "2024-02-03T17:37:31.319291Z",
          "iopub.status.idle": "2024-02-03T17:37:33.365647Z",
          "shell.execute_reply.started": "2024-02-03T17:37:31.319269Z",
          "shell.execute_reply": "2024-02-03T17:37:33.364836Z"
        },
        "trusted": true,
        "id": "nxrDtCyEaWRe"
      },
      "execution_count": 9,
      "outputs": []
    },
    {
      "cell_type": "code",
      "source": [
        "model.compile(loss='categorical_crossentropy', optimizer='adam')\n",
        "model.summary()"
      ],
      "metadata": {
        "execution": {
          "iopub.status.busy": "2024-02-03T17:37:33.366878Z",
          "iopub.execute_input": "2024-02-03T17:37:33.367243Z",
          "iopub.status.idle": "2024-02-03T17:37:33.410295Z",
          "shell.execute_reply.started": "2024-02-03T17:37:33.367211Z",
          "shell.execute_reply": "2024-02-03T17:37:33.409372Z"
        },
        "trusted": true,
        "id": "xO7sBQuFaWRe",
        "outputId": "86c39637-32d8-4b62-dd51-97117ef93294",
        "colab": {
          "base_uri": "https://localhost:8080/"
        }
      },
      "execution_count": 10,
      "outputs": [
        {
          "output_type": "stream",
          "name": "stdout",
          "text": [
            "Model: \"sequential\"\n",
            "_________________________________________________________________\n",
            " Layer (type)                Output Shape              Param #   \n",
            "=================================================================\n",
            " embedding (Embedding)       (None, 18, 20)            48440     \n",
            "                                                                 \n",
            " bidirectional (Bidirection  (None, 18, 200)           96800     \n",
            " al)                                                             \n",
            "                                                                 \n",
            " lstm_1 (LSTM)               (None, 100)               120400    \n",
            "                                                                 \n",
            " dropout (Dropout)           (None, 100)               0         \n",
            "                                                                 \n",
            " dense (Dense)               (None, 2422)              244622    \n",
            "                                                                 \n",
            "=================================================================\n",
            "Total params: 510262 (1.95 MB)\n",
            "Trainable params: 510262 (1.95 MB)\n",
            "Non-trainable params: 0 (0.00 Byte)\n",
            "_________________________________________________________________\n"
          ]
        }
      ]
    },
    {
      "cell_type": "code",
      "source": [
        "model.fit(predictors,label,epochs=100,verbose=5)"
      ],
      "metadata": {
        "execution": {
          "iopub.status.busy": "2024-02-03T17:37:33.411518Z",
          "iopub.execute_input": "2024-02-03T17:37:33.411824Z",
          "iopub.status.idle": "2024-02-03T17:39:24.042522Z",
          "shell.execute_reply.started": "2024-02-03T17:37:33.411798Z",
          "shell.execute_reply": "2024-02-03T17:39:24.041521Z"
        },
        "trusted": true,
        "id": "bl2k6P_7aWRe",
        "outputId": "45b0c599-3111-4f62-ba51-01ae567e7e03",
        "colab": {
          "base_uri": "https://localhost:8080/"
        }
      },
      "execution_count": 11,
      "outputs": [
        {
          "output_type": "stream",
          "name": "stdout",
          "text": [
            "Epoch 1/100\n",
            "Epoch 2/100\n",
            "Epoch 3/100\n",
            "Epoch 4/100\n",
            "Epoch 5/100\n",
            "Epoch 6/100\n",
            "Epoch 7/100\n",
            "Epoch 8/100\n",
            "Epoch 9/100\n",
            "Epoch 10/100\n",
            "Epoch 11/100\n",
            "Epoch 12/100\n",
            "Epoch 13/100\n",
            "Epoch 14/100\n",
            "Epoch 15/100\n",
            "Epoch 16/100\n",
            "Epoch 17/100\n",
            "Epoch 18/100\n",
            "Epoch 19/100\n",
            "Epoch 20/100\n",
            "Epoch 21/100\n",
            "Epoch 22/100\n",
            "Epoch 23/100\n",
            "Epoch 24/100\n",
            "Epoch 25/100\n",
            "Epoch 26/100\n",
            "Epoch 27/100\n",
            "Epoch 28/100\n",
            "Epoch 29/100\n",
            "Epoch 30/100\n",
            "Epoch 31/100\n",
            "Epoch 32/100\n",
            "Epoch 33/100\n",
            "Epoch 34/100\n",
            "Epoch 35/100\n",
            "Epoch 36/100\n",
            "Epoch 37/100\n",
            "Epoch 38/100\n",
            "Epoch 39/100\n",
            "Epoch 40/100\n",
            "Epoch 41/100\n",
            "Epoch 42/100\n",
            "Epoch 43/100\n",
            "Epoch 44/100\n",
            "Epoch 45/100\n",
            "Epoch 46/100\n",
            "Epoch 47/100\n",
            "Epoch 48/100\n",
            "Epoch 49/100\n",
            "Epoch 50/100\n",
            "Epoch 51/100\n",
            "Epoch 52/100\n",
            "Epoch 53/100\n",
            "Epoch 54/100\n",
            "Epoch 55/100\n",
            "Epoch 56/100\n",
            "Epoch 57/100\n",
            "Epoch 58/100\n",
            "Epoch 59/100\n",
            "Epoch 60/100\n",
            "Epoch 61/100\n",
            "Epoch 62/100\n",
            "Epoch 63/100\n",
            "Epoch 64/100\n",
            "Epoch 65/100\n",
            "Epoch 66/100\n",
            "Epoch 67/100\n",
            "Epoch 68/100\n",
            "Epoch 69/100\n",
            "Epoch 70/100\n",
            "Epoch 71/100\n",
            "Epoch 72/100\n",
            "Epoch 73/100\n",
            "Epoch 74/100\n",
            "Epoch 75/100\n",
            "Epoch 76/100\n",
            "Epoch 77/100\n",
            "Epoch 78/100\n",
            "Epoch 79/100\n",
            "Epoch 80/100\n",
            "Epoch 81/100\n",
            "Epoch 82/100\n",
            "Epoch 83/100\n",
            "Epoch 84/100\n",
            "Epoch 85/100\n",
            "Epoch 86/100\n",
            "Epoch 87/100\n",
            "Epoch 88/100\n",
            "Epoch 89/100\n",
            "Epoch 90/100\n",
            "Epoch 91/100\n",
            "Epoch 92/100\n",
            "Epoch 93/100\n",
            "Epoch 94/100\n",
            "Epoch 95/100\n",
            "Epoch 96/100\n",
            "Epoch 97/100\n",
            "Epoch 98/100\n",
            "Epoch 99/100\n",
            "Epoch 100/100\n"
          ]
        },
        {
          "output_type": "execute_result",
          "data": {
            "text/plain": [
              "<keras.src.callbacks.History at 0x798e45303070>"
            ]
          },
          "metadata": {},
          "execution_count": 11
        }
      ]
    },
    {
      "cell_type": "code",
      "source": [
        "def make_pred(sentence, limit):\n",
        "    for i in range(limit):\n",
        "        tokenized_words = tokenizer.texts_to_sequences([sentence])[0]\n",
        "        tokenized_words = pad_sequences([tokenized_words], maxlen=max_sequence, padding='pre')\n",
        "        pred_word = np.argmax(model.predict(tokenized_words))\n",
        "        pred = tokenizer.index_word[pred_word]\n",
        "        sentence += \" \" + pred\n",
        "    return sentence\n",
        "\n",
        "sentence = \"I know how to\"\n",
        "length_words = 2\n",
        "output_pred = make_pred(sentence,length_words)\n",
        "print(output_pred)"
      ],
      "metadata": {
        "execution": {
          "iopub.status.busy": "2024-02-03T17:39:55.087733Z",
          "iopub.execute_input": "2024-02-03T17:39:55.088702Z",
          "iopub.status.idle": "2024-02-03T17:39:55.242186Z",
          "shell.execute_reply.started": "2024-02-03T17:39:55.088664Z",
          "shell.execute_reply": "2024-02-03T17:39:55.241074Z"
        },
        "trusted": true,
        "id": "l-wNkY0YaWRe",
        "outputId": "25504fd5-4e89-48e0-d20e-53dd8f1353af",
        "colab": {
          "base_uri": "https://localhost:8080/"
        }
      },
      "execution_count": 12,
      "outputs": [
        {
          "output_type": "stream",
          "name": "stdout",
          "text": [
            "1/1 [==============================] - 1s 1s/step\n",
            "1/1 [==============================] - 0s 27ms/step\n",
            "I know how to ease college\n"
          ]
        }
      ]
    }
  ]
}